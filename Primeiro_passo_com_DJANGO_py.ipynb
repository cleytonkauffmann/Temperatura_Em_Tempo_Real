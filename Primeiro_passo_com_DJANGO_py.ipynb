{
  "nbformat": 4,
  "nbformat_minor": 0,
  "metadata": {
    "colab": {
      "provenance": [],
      "authorship_tag": "ABX9TyMuHkQPL0zTMTqsL/fKI+jS",
      "include_colab_link": true
    },
    "kernelspec": {
      "name": "python3",
      "display_name": "Python 3"
    },
    "language_info": {
      "name": "python"
    }
  },
  "cells": [
    {
      "cell_type": "markdown",
      "metadata": {
        "id": "view-in-github",
        "colab_type": "text"
      },
      "source": [
        "<a href=\"https://colab.research.google.com/github/cleytonkauffmann/Temperatura_Em_Tempo_Real/blob/main/Primeiro_passo_com_DJANGO_py.ipynb\" target=\"_parent\"><img src=\"https://colab.research.google.com/assets/colab-badge.svg\" alt=\"Open In Colab\"/></a>"
      ]
    },
    {
      "cell_type": "code",
      "source": [
        "import random\n",
        "\n",
        "def jogar_adivinhacao():\n",
        "    print(\"Bem-vindo ao jogo de adivinhação!\")\n",
        "    print(\"Eu escolhi um número entre 1 e 100. Tente adivinhar!\")\n",
        "\n",
        "    numero_secreto = random.randint(1, 100)\n",
        "    tentativas = 0\n",
        "\n",
        "    while True:\n",
        "        chute = int(input(\"Digite o seu palpite: \"))\n",
        "\n",
        "        tentativas += 1\n",
        "\n",
        "        if chute < numero_secreto:\n",
        "            print(\"O número que eu escolhi é maior.\")\n",
        "        elif chute > numero_secreto:\n",
        "            print(\"O número que eu escolhi é menor.\")\n",
        "        else:\n",
        "            print(f\"Parabéns! Você acertou em {tentativas} tentativas.\")\n",
        "            break\n",
        "\n",
        "    while True:\n",
        "        jogar_novamente = input(\"Deseja jogar novamente? (S/N): \").lower()\n",
        "        if jogar_novamente == 's':\n",
        "            jogar_adivinhacao()\n",
        "            break\n",
        "        elif jogar_novamente == 'n':\n",
        "            print(\"Obrigado por jogar. Até a próxima!\")\n",
        "            return\n",
        "        else:\n",
        "            print(\"Opção inválida. Por favor, digite 'S' para jogar novamente ou 'N' para sair.\")\n",
        "\n",
        "# Função para exibir o menu inicial com espaçamento\n",
        "def exibir_menu():\n",
        "    print(\"=\" * 25)\n",
        "    print(\"|                       |\")\n",
        "    print(\"|    Deseja jogar?      |\")\n",
        "    print(\"|        (S/N)          |\")\n",
        "    print(\"=\" * 25)\n",
        "\n",
        "# Chamando a função para exibir o menu inicial\n",
        "exibir_menu()\n",
        "\n",
        "# Aguardando o jogador digitar \"S\" para iniciar o jogo\n",
        "while True:\n",
        "    opcao = input().lower()\n",
        "    if opcao == \"s\":\n",
        "        jogar_adivinhacao()\n",
        "        break\n",
        "    elif opcao == \"n\":\n",
        "        print(\"Até a próxima, Te espero aqui...!\")\n",
        "        break\n",
        "    else:\n",
        "        print(\"Por favor, digite 'S' para começar o jogo ou 'N' para sair.\")\n"
      ],
      "metadata": {
        "colab": {
          "base_uri": "https://localhost:8080/"
        },
        "id": "LmhqSj9kvn7u",
        "outputId": "e937aabc-d374-4216-c07d-644d2abba283"
      },
      "execution_count": 8,
      "outputs": [
        {
          "output_type": "stream",
          "name": "stdout",
          "text": [
            "=========================\n",
            "|                       |\n",
            "|    Deseja jogar?      |\n",
            "|        (S/N)          |\n",
            "=========================\n",
            "n\n",
            "Até a próxima, Te espero aqui...!\n"
          ]
        }
      ]
    }
  ]
}